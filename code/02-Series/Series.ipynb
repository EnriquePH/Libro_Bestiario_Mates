{
 "cells": [
  {
   "cell_type": "code",
   "execution_count": 1,
   "metadata": {},
   "outputs": [],
   "source": [
    "from math import floor, ceil, sqrt"
   ]
  },
  {
   "cell_type": "code",
   "execution_count": 2,
   "metadata": {},
   "outputs": [],
   "source": [
    "import pandas as pd\n",
    "from oeis.sequence import OEIS_Sequence\n",
    "from oeis.sequence import OEIS_URL\n",
    "from matplotlib import pyplot as plt"
   ]
  },
  {
   "cell_type": "markdown",
   "metadata": {},
   "source": [
    "# Secuencias con término general:\n",
    "\n",
    "$$a(n) = \\left \\lfloor \\frac{{n}^{2}}{k} \\right \\rfloor$$"
   ]
  },
  {
   "cell_type": "markdown",
   "metadata": {},
   "source": [
    "$$\\sum_{s=0}^{k-1}{\\sum_{m=[s^2 \\lt k]}^{\\infty}\\frac{1}{\\left\\lfloor\\frac{{(k m + s)}^{2}}{k}\\right\\rfloor}}$$"
   ]
  },
  {
   "cell_type": "code",
   "execution_count": 3,
   "metadata": {},
   "outputs": [
    {
     "name": "stdout",
     "output_type": "stream",
     "text": [
      "[3, 12, 27, 48, 75, 108, 147, 192, 243, 300, 363, 432, 507, 588, 675, 768, 867, 972, 1083, 1200, 1323, 1452, 1587, 1728, 1875, 2028, 2187, 2352, 2523]\n",
      "[5, 16, 33, 56, 85, 120, 161, 208, 261, 320, 385, 456, 533, 616, 705, 800, 901, 1008, 1121, 1240, 1365, 1496, 1633, 1776, 1925, 2080, 2241, 2408, 2581]\n",
      "[1, 8, 21, 40, 65, 96, 133, 176, 225, 280, 341, 408, 481, 560, 645, 736, 833, 936, 1045, 1160, 1281, 1408, 1541, 1680, 1825, 1976, 2133, 2296, 2465, 2640]\n"
     ]
    }
   ],
   "source": [
    "K = 3\n",
    "\n",
    "def f(m, k=K):\n",
    "    return floor((m ** 2) / k)\n",
    "\n",
    "for s in range(0, K):\n",
    "    seq = [f(K * m + s) for m in range(s ** 2 < K, 30)]\n",
    "    print(seq)"
   ]
  },
  {
   "cell_type": "code",
   "execution_count": 4,
   "metadata": {},
   "outputs": [
    {
     "name": "stdout",
     "output_type": "stream",
     "text": [
      "[0, 2, 4, 8, 12, 18, 24, 32, 40, 50, 60, 72, 84, 98, 112, 128, 144, 162, 180, 200, 220, 242, 264, 288, 312, 338, 364, 392, 420]\n"
     ]
    }
   ],
   "source": [
    "print([f(x, k=2) for x in range(1, 30)])"
   ]
  },
  {
   "cell_type": "code",
   "execution_count": 5,
   "metadata": {},
   "outputs": [
    {
     "name": "stdout",
     "output_type": "stream",
     "text": [
      "1 0 [1, 4, 9, 16, 25, 36, 49, 64, 81, 100, 121, 144, 169, 196, 225, 256, 289, 324, 361, 400]\n",
      "2 1 [2, 4, 8, 12, 18, 24, 32, 40, 50, 60, 72, 84, 98, 112, 128, 144, 162, 180, 200, 220]\n",
      "3 1 [1, 3, 5, 8, 12, 16, 21, 27, 33, 40, 48, 56, 65, 75, 85, 96, 108, 120, 133, 147]\n",
      "4 1 [1, 2, 4, 6, 9, 12, 16, 20, 25, 30, 36, 42, 49, 56, 64, 72, 81, 90, 100, 110]\n",
      "5 3 [1, 3, 5, 7, 9, 12, 16, 20, 24, 28, 33, 39, 45, 51, 57, 64, 72, 80, 88, 96]\n",
      "6 3 [1, 2, 4, 6, 8, 10, 13, 16, 20, 24, 28, 32, 37, 42, 48, 54, 60, 66, 73, 80]\n",
      "7 3 [1, 2, 3, 5, 7, 9, 11, 14, 17, 20, 24, 28, 32, 36, 41, 46, 51, 57, 63, 69]\n",
      "8 3 [1, 2, 3, 4, 6, 8, 10, 12, 15, 18, 21, 24, 28, 32, 36, 40, 45, 50, 55, 60]\n",
      "9 3 [1, 1, 2, 4, 5, 7, 9, 11, 13, 16, 18, 21, 25, 28, 32, 36, 40, 44, 49, 53]\n",
      "10 5 [1, 2, 3, 4, 6, 8, 10, 12, 14, 16, 19, 22, 25, 28, 32, 36, 40, 44, 48, 52]\n"
     ]
    }
   ],
   "source": [
    "MAX_TERMS = 20\n",
    "\n",
    "# Comprobación del límite inferior de la suma\n",
    "for k in range(1, 10 + 1):\n",
    "    seq = [f(x, k) for x in range(ceil(sqrt(k)), ceil(sqrt(k)) + MAX_TERMS)]\n",
    "    print(k, f(ceil(sqrt(k))), seq)"
   ]
  },
  {
   "cell_type": "markdown",
   "metadata": {},
   "source": [
    "## Crear una tabla con las secuencias de OEIS"
   ]
  },
  {
   "cell_type": "code",
   "execution_count": 6,
   "metadata": {},
   "outputs": [],
   "source": [
    "SEQ_LIST = ['A000290', 'A007590', 'A000212',\n",
    "            'A002620', 'A118015', 'A056827',\n",
    "            'A056834', 'A130519', 'A056838',\n",
    "            'A056865']"
   ]
  },
  {
   "cell_type": "code",
   "execution_count": 7,
   "metadata": {},
   "outputs": [],
   "source": [
    "def formula_latex(k, floor=True):\n",
    "    latex = r\"$$\\left\\lfloor\\frac{n^2}{\" + str(k) + r\"}\\right\\rfloor$$\"\n",
    "    if not floor:\n",
    "        latex = latex.replace(\"floor\", \"ceil\") \n",
    "    return latex\n",
    "\n",
    "def oeis_md_link(id_):\n",
    "    return f'[{id_}]({OEIS_URL}{id_})'"
   ]
  },
  {
   "cell_type": "code",
   "execution_count": 8,
   "metadata": {},
   "outputs": [],
   "source": [
    "series_table = pd.DataFrame(columns= ['k',\n",
    "                             'Secuencia',\n",
    "                             'Fórmula',\n",
    "                             'Descripción',\n",
    "                             'Términos'])\n",
    "MAX_TERMS = 15\n",
    "\n",
    "\n",
    "for num, id_ in enumerate(SEQ_LIST):\n",
    "    Seq = OEIS_Sequence(id_)\n",
    "    series_table = series_table.append({'k': num + 1,\n",
    "                                        'Secuencia': oeis_md_link(id_),\n",
    "                                        'Fórmula': formula_latex(num + 1),\n",
    "                                        'Descripción': Seq.description,\n",
    "                                        'Términos': Seq.terms[:MAX_TERMS]\n",
    "                                       }, ignore_index=True)"
   ]
  },
  {
   "cell_type": "code",
   "execution_count": 9,
   "metadata": {},
   "outputs": [
    {
     "data": {
      "text/html": [
       "<div>\n",
       "<style scoped>\n",
       "    .dataframe tbody tr th:only-of-type {\n",
       "        vertical-align: middle;\n",
       "    }\n",
       "\n",
       "    .dataframe tbody tr th {\n",
       "        vertical-align: top;\n",
       "    }\n",
       "\n",
       "    .dataframe thead th {\n",
       "        text-align: right;\n",
       "    }\n",
       "</style>\n",
       "<table border=\"1\" class=\"dataframe\">\n",
       "  <thead>\n",
       "    <tr style=\"text-align: right;\">\n",
       "      <th></th>\n",
       "      <th>k</th>\n",
       "      <th>Secuencia</th>\n",
       "      <th>Fórmula</th>\n",
       "      <th>Descripción</th>\n",
       "      <th>Términos</th>\n",
       "    </tr>\n",
       "  </thead>\n",
       "  <tbody>\n",
       "    <tr>\n",
       "      <th>0</th>\n",
       "      <td>1</td>\n",
       "      <td>[A000290](http://oeis.org/A000290)</td>\n",
       "      <td>$$\\left\\lfloor\\frac{n^2}{1}\\right\\rfloor$$</td>\n",
       "      <td>The squares: a(n) = n^2.</td>\n",
       "      <td>[0, 1, 4, 9, 16, 25, 36, 49, 64, 81, 100, 121,...</td>\n",
       "    </tr>\n",
       "    <tr>\n",
       "      <th>1</th>\n",
       "      <td>2</td>\n",
       "      <td>[A007590](http://oeis.org/A007590)</td>\n",
       "      <td>$$\\left\\lfloor\\frac{n^2}{2}\\right\\rfloor$$</td>\n",
       "      <td>a(n) = floor(n^2/2).</td>\n",
       "      <td>[0, 0, 2, 4, 8, 12, 18, 24, 32, 40, 50, 60, 72...</td>\n",
       "    </tr>\n",
       "    <tr>\n",
       "      <th>2</th>\n",
       "      <td>3</td>\n",
       "      <td>[A000212](http://oeis.org/A000212)</td>\n",
       "      <td>$$\\left\\lfloor\\frac{n^2}{3}\\right\\rfloor$$</td>\n",
       "      <td>a(n) = floor(n^2/3).</td>\n",
       "      <td>[0, 0, 1, 3, 5, 8, 12, 16, 21, 27, 33, 40, 48,...</td>\n",
       "    </tr>\n",
       "    <tr>\n",
       "      <th>3</th>\n",
       "      <td>4</td>\n",
       "      <td>[A002620](http://oeis.org/A002620)</td>\n",
       "      <td>$$\\left\\lfloor\\frac{n^2}{4}\\right\\rfloor$$</td>\n",
       "      <td>Quarter-squares: floor(n/2)*ceiling(n/2). Equi...</td>\n",
       "      <td>[0, 0, 1, 2, 4, 6, 9, 12, 16, 20, 25, 30, 36, ...</td>\n",
       "    </tr>\n",
       "    <tr>\n",
       "      <th>4</th>\n",
       "      <td>5</td>\n",
       "      <td>[A118015](http://oeis.org/A118015)</td>\n",
       "      <td>$$\\left\\lfloor\\frac{n^2}{5}\\right\\rfloor$$</td>\n",
       "      <td>a(n) = floor(n^2/5).</td>\n",
       "      <td>[0, 0, 0, 1, 3, 5, 7, 9, 12, 16, 20, 24, 28, 3...</td>\n",
       "    </tr>\n",
       "    <tr>\n",
       "      <th>5</th>\n",
       "      <td>6</td>\n",
       "      <td>[A056827](http://oeis.org/A056827)</td>\n",
       "      <td>$$\\left\\lfloor\\frac{n^2}{6}\\right\\rfloor$$</td>\n",
       "      <td>a(n) = floor(n^2/6).</td>\n",
       "      <td>[0, 0, 0, 1, 2, 4, 6, 8, 10, 13, 16, 20, 24, 2...</td>\n",
       "    </tr>\n",
       "    <tr>\n",
       "      <th>6</th>\n",
       "      <td>7</td>\n",
       "      <td>[A056834](http://oeis.org/A056834)</td>\n",
       "      <td>$$\\left\\lfloor\\frac{n^2}{7}\\right\\rfloor$$</td>\n",
       "      <td>a(n) = floor(n^2/7).</td>\n",
       "      <td>[0, 0, 0, 1, 2, 3, 5, 7, 9, 11, 14, 17, 20, 24...</td>\n",
       "    </tr>\n",
       "    <tr>\n",
       "      <th>7</th>\n",
       "      <td>8</td>\n",
       "      <td>[A130519](http://oeis.org/A130519)</td>\n",
       "      <td>$$\\left\\lfloor\\frac{n^2}{8}\\right\\rfloor$$</td>\n",
       "      <td>a(n) = Sum_{k=0..n} floor(k/4). (Partial sums ...</td>\n",
       "      <td>[0, 0, 0, 0, 1, 2, 3, 4, 6, 8, 10, 12, 15, 18,...</td>\n",
       "    </tr>\n",
       "    <tr>\n",
       "      <th>8</th>\n",
       "      <td>9</td>\n",
       "      <td>[A056838](http://oeis.org/A056838)</td>\n",
       "      <td>$$\\left\\lfloor\\frac{n^2}{9}\\right\\rfloor$$</td>\n",
       "      <td>a(n) = floor(n^2/9).</td>\n",
       "      <td>[0, 0, 0, 1, 1, 2, 4, 5, 7, 9, 11, 13, 16, 18,...</td>\n",
       "    </tr>\n",
       "    <tr>\n",
       "      <th>9</th>\n",
       "      <td>10</td>\n",
       "      <td>[A056865](http://oeis.org/A056865)</td>\n",
       "      <td>$$\\left\\lfloor\\frac{n^2}{10}\\right\\rfloor$$</td>\n",
       "      <td>a(n) = floor(n^2/10).</td>\n",
       "      <td>[0, 0, 0, 0, 1, 2, 3, 4, 6, 8, 10, 12, 14, 16,...</td>\n",
       "    </tr>\n",
       "  </tbody>\n",
       "</table>\n",
       "</div>"
      ],
      "text/plain": [
       "    k                           Secuencia  \\\n",
       "0   1  [A000290](http://oeis.org/A000290)   \n",
       "1   2  [A007590](http://oeis.org/A007590)   \n",
       "2   3  [A000212](http://oeis.org/A000212)   \n",
       "3   4  [A002620](http://oeis.org/A002620)   \n",
       "4   5  [A118015](http://oeis.org/A118015)   \n",
       "5   6  [A056827](http://oeis.org/A056827)   \n",
       "6   7  [A056834](http://oeis.org/A056834)   \n",
       "7   8  [A130519](http://oeis.org/A130519)   \n",
       "8   9  [A056838](http://oeis.org/A056838)   \n",
       "9  10  [A056865](http://oeis.org/A056865)   \n",
       "\n",
       "                                       Fórmula  \\\n",
       "0   $$\\left\\lfloor\\frac{n^2}{1}\\right\\rfloor$$   \n",
       "1   $$\\left\\lfloor\\frac{n^2}{2}\\right\\rfloor$$   \n",
       "2   $$\\left\\lfloor\\frac{n^2}{3}\\right\\rfloor$$   \n",
       "3   $$\\left\\lfloor\\frac{n^2}{4}\\right\\rfloor$$   \n",
       "4   $$\\left\\lfloor\\frac{n^2}{5}\\right\\rfloor$$   \n",
       "5   $$\\left\\lfloor\\frac{n^2}{6}\\right\\rfloor$$   \n",
       "6   $$\\left\\lfloor\\frac{n^2}{7}\\right\\rfloor$$   \n",
       "7   $$\\left\\lfloor\\frac{n^2}{8}\\right\\rfloor$$   \n",
       "8   $$\\left\\lfloor\\frac{n^2}{9}\\right\\rfloor$$   \n",
       "9  $$\\left\\lfloor\\frac{n^2}{10}\\right\\rfloor$$   \n",
       "\n",
       "                                         Descripción  \\\n",
       "0                           The squares: a(n) = n^2.   \n",
       "1                               a(n) = floor(n^2/2).   \n",
       "2                               a(n) = floor(n^2/3).   \n",
       "3  Quarter-squares: floor(n/2)*ceiling(n/2). Equi...   \n",
       "4                               a(n) = floor(n^2/5).   \n",
       "5                               a(n) = floor(n^2/6).   \n",
       "6                               a(n) = floor(n^2/7).   \n",
       "7  a(n) = Sum_{k=0..n} floor(k/4). (Partial sums ...   \n",
       "8                               a(n) = floor(n^2/9).   \n",
       "9                              a(n) = floor(n^2/10).   \n",
       "\n",
       "                                            Términos  \n",
       "0  [0, 1, 4, 9, 16, 25, 36, 49, 64, 81, 100, 121,...  \n",
       "1  [0, 0, 2, 4, 8, 12, 18, 24, 32, 40, 50, 60, 72...  \n",
       "2  [0, 0, 1, 3, 5, 8, 12, 16, 21, 27, 33, 40, 48,...  \n",
       "3  [0, 0, 1, 2, 4, 6, 9, 12, 16, 20, 25, 30, 36, ...  \n",
       "4  [0, 0, 0, 1, 3, 5, 7, 9, 12, 16, 20, 24, 28, 3...  \n",
       "5  [0, 0, 0, 1, 2, 4, 6, 8, 10, 13, 16, 20, 24, 2...  \n",
       "6  [0, 0, 0, 1, 2, 3, 5, 7, 9, 11, 14, 17, 20, 24...  \n",
       "7  [0, 0, 0, 0, 1, 2, 3, 4, 6, 8, 10, 12, 15, 18,...  \n",
       "8  [0, 0, 0, 1, 1, 2, 4, 5, 7, 9, 11, 13, 16, 18,...  \n",
       "9  [0, 0, 0, 0, 1, 2, 3, 4, 6, 8, 10, 12, 14, 16,...  "
      ]
     },
     "execution_count": 9,
     "metadata": {},
     "output_type": "execute_result"
    }
   ],
   "source": [
    "series_table"
   ]
  },
  {
   "cell_type": "code",
   "execution_count": 10,
   "metadata": {},
   "outputs": [
    {
     "name": "stdout",
     "output_type": "stream",
     "text": [
      "|   k | Secuencia                          | Fórmula                                     | Descripción                                                           | Términos                                                      |\n",
      "|----:|:-----------------------------------|:--------------------------------------------|:----------------------------------------------------------------------|:--------------------------------------------------------------|\n",
      "|   1 | [A000290](http://oeis.org/A000290) | $$\\left\\lfloor\\frac{n^2}{1}\\right\\rfloor$$  | The squares: a(n) = n^2.                                              | [0, 1, 4, 9, 16, 25, 36, 49, 64, 81, 100, 121, 144, 169, 196] |\n",
      "|   2 | [A007590](http://oeis.org/A007590) | $$\\left\\lfloor\\frac{n^2}{2}\\right\\rfloor$$  | a(n) = floor(n^2/2).                                                  | [0, 0, 2, 4, 8, 12, 18, 24, 32, 40, 50, 60, 72, 84, 98]       |\n",
      "|   3 | [A000212](http://oeis.org/A000212) | $$\\left\\lfloor\\frac{n^2}{3}\\right\\rfloor$$  | a(n) = floor(n^2/3).                                                  | [0, 0, 1, 3, 5, 8, 12, 16, 21, 27, 33, 40, 48, 56, 65]        |\n",
      "|   4 | [A002620](http://oeis.org/A002620) | $$\\left\\lfloor\\frac{n^2}{4}\\right\\rfloor$$  | Quarter-squares: floor(n/2)*ceiling(n/2). Equivalently, floor(n^2/4). | [0, 0, 1, 2, 4, 6, 9, 12, 16, 20, 25, 30, 36, 42, 49]         |\n",
      "|   5 | [A118015](http://oeis.org/A118015) | $$\\left\\lfloor\\frac{n^2}{5}\\right\\rfloor$$  | a(n) = floor(n^2/5).                                                  | [0, 0, 0, 1, 3, 5, 7, 9, 12, 16, 20, 24, 28, 33, 39]          |\n",
      "|   6 | [A056827](http://oeis.org/A056827) | $$\\left\\lfloor\\frac{n^2}{6}\\right\\rfloor$$  | a(n) = floor(n^2/6).                                                  | [0, 0, 0, 1, 2, 4, 6, 8, 10, 13, 16, 20, 24, 28, 32]          |\n",
      "|   7 | [A056834](http://oeis.org/A056834) | $$\\left\\lfloor\\frac{n^2}{7}\\right\\rfloor$$  | a(n) = floor(n^2/7).                                                  | [0, 0, 0, 1, 2, 3, 5, 7, 9, 11, 14, 17, 20, 24, 28]           |\n",
      "|   8 | [A130519](http://oeis.org/A130519) | $$\\left\\lfloor\\frac{n^2}{8}\\right\\rfloor$$  | a(n) = Sum_{k=0..n} floor(k/4). (Partial sums of A002265.)            | [0, 0, 0, 0, 1, 2, 3, 4, 6, 8, 10, 12, 15, 18, 21]            |\n",
      "|   9 | [A056838](http://oeis.org/A056838) | $$\\left\\lfloor\\frac{n^2}{9}\\right\\rfloor$$  | a(n) = floor(n^2/9).                                                  | [0, 0, 0, 1, 1, 2, 4, 5, 7, 9, 11, 13, 16, 18, 21]            |\n",
      "|  10 | [A056865](http://oeis.org/A056865) | $$\\left\\lfloor\\frac{n^2}{10}\\right\\rfloor$$ | a(n) = floor(n^2/10).                                                 | [0, 0, 0, 0, 1, 2, 3, 4, 6, 8, 10, 12, 14, 16, 19]            |\n"
     ]
    }
   ],
   "source": [
    "# Tabla en markdown para incluir en el capítulo\n",
    "print(series_table.to_markdown(index=False))"
   ]
  }
 ],
 "metadata": {
  "kernelspec": {
   "display_name": "Python 3",
   "language": "python",
   "name": "python3"
  },
  "language_info": {
   "codemirror_mode": {
    "name": "ipython",
    "version": 3
   },
   "file_extension": ".py",
   "mimetype": "text/x-python",
   "name": "python",
   "nbconvert_exporter": "python",
   "pygments_lexer": "ipython3",
   "version": "3.8.5"
  },
  "widgets": {
   "application/vnd.jupyter.widget-state+json": {
    "state": {},
    "version_major": 2,
    "version_minor": 0
   }
  }
 },
 "nbformat": 4,
 "nbformat_minor": 4
}
