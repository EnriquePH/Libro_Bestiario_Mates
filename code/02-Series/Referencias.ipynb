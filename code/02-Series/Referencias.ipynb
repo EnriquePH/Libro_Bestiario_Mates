{
 "cells": [
  {
   "cell_type": "markdown",
   "metadata": {},
   "source": [
    "# Actualizar las referencias cruzadas de una secuencia en OEIS"
   ]
  },
  {
   "cell_type": "code",
   "execution_count": 21,
   "metadata": {},
   "outputs": [],
   "source": [
    "# https://github.com/EnriquePH/OEIS.py\n",
    "from oeis.sequence import OEIS_Sequence\n",
    "from oeis.sequence import OEIS_URL\n",
    "from IPython.display import Markdown"
   ]
  },
  {
   "cell_type": "markdown",
   "metadata": {},
   "source": [
    "## Listado de secuencias que se desean añadir como referencia cruzada"
   ]
  },
  {
   "cell_type": "code",
   "execution_count": 6,
   "metadata": {},
   "outputs": [],
   "source": [
    "SEQ_LIST = ['A000290', 'A007590', 'A000212',\n",
    "            'A002620', 'A118015', 'A056827',\n",
    "            'A056834', 'A130519', 'A056838',\n",
    "            'A056865']"
   ]
  },
  {
   "cell_type": "markdown",
   "metadata": {},
   "source": [
    "## Secuencia a actualizar"
   ]
  },
  {
   "cell_type": "code",
   "execution_count": 7,
   "metadata": {},
   "outputs": [
    {
     "data": {
      "text/plain": [
       "'Quarter-squares: floor(n/2)*ceiling(n/2). Equivalently, floor(n^2/4).'"
      ]
     },
     "execution_count": 7,
     "metadata": {},
     "output_type": "execute_result"
    }
   ],
   "source": [
    "id_ = \"A002620\"\n",
    "Seq = OEIS_Sequence(id_)\n",
    "Seq.description"
   ]
  },
  {
   "cell_type": "code",
   "execution_count": 19,
   "metadata": {},
   "outputs": [],
   "source": [
    "def md_link(text, link):\n",
    "    \"\"\"\n",
    "    Markdown href\n",
    "    \"\"\"\n",
    "    return Markdown(f\"[{text}]({link})\")"
   ]
  },
  {
   "cell_type": "code",
   "execution_count": 20,
   "metadata": {},
   "outputs": [
    {
     "data": {
      "text/markdown": [
       "[Quarter-squares: floor(n/2)*ceiling(n/2). Equivalently, floor(n^2/4).](http://oeis.org/A002620)"
      ],
      "text/plain": [
       "<IPython.core.display.Markdown object>"
      ]
     },
     "execution_count": 20,
     "metadata": {},
     "output_type": "execute_result"
    }
   ],
   "source": [
    "md_link(Seq.description, Seq.url)"
   ]
  },
  {
   "cell_type": "markdown",
   "metadata": {},
   "source": [
    "## Selecciona las refencias de la lista no incluidas en la enciclopedia"
   ]
  },
  {
   "cell_type": "code",
   "execution_count": 26,
   "metadata": {},
   "outputs": [],
   "source": [
    "update_crfs = [ref for ref in SEQ_LIST if ref not in Seq.crossrefs and ref != id_]"
   ]
  },
  {
   "cell_type": "code",
   "execution_count": 27,
   "metadata": {},
   "outputs": [],
   "source": [
    "def crossrefs_text(crfs):\n",
    "    return \"Cf. \" + (\", \").join(update_crfs) + \".\""
   ]
  },
  {
   "cell_type": "code",
   "execution_count": 28,
   "metadata": {},
   "outputs": [
    {
     "name": "stdout",
     "output_type": "stream",
     "text": [
      "Cf. A000290, A056834, A130519, A056838, A056865.\n"
     ]
    }
   ],
   "source": [
    "print(crossrefs_text(update_crfs))"
   ]
  },
  {
   "cell_type": "code",
   "execution_count": null,
   "metadata": {},
   "outputs": [],
   "source": []
  }
 ],
 "metadata": {
  "kernelspec": {
   "display_name": "Python 3",
   "language": "python",
   "name": "python3"
  },
  "language_info": {
   "codemirror_mode": {
    "name": "ipython",
    "version": 3
   },
   "file_extension": ".py",
   "mimetype": "text/x-python",
   "name": "python",
   "nbconvert_exporter": "python",
   "pygments_lexer": "ipython3",
   "version": "3.8.5"
  },
  "widgets": {
   "application/vnd.jupyter.widget-state+json": {
    "state": {},
    "version_major": 2,
    "version_minor": 0
   }
  }
 },
 "nbformat": 4,
 "nbformat_minor": 4
}
